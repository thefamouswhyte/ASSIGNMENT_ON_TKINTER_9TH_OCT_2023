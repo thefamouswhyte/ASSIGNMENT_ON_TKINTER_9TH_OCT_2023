{
 "cells": [
  {
   "cell_type": "code",
   "execution_count": 5,
   "id": "9c4ba4f8",
   "metadata": {},
   "outputs": [
    {
     "name": "stdout",
     "output_type": "stream",
     "text": [
      "25.0\n",
      "-1.0\n",
      "156.0\n",
      "0.9230769230769231\n"
     ]
    }
   ],
   "source": [
    "## mode 10\n",
    "from tkinter import *\n",
    "def add_2():\n",
    "    compute=float(entry1.get())+float(entry2.get())\n",
    "    print(compute)\n",
    "    \n",
    "def sub_2():\n",
    "    compute=float(entry1.get())-float(entry2.get())\n",
    "    print(compute)\n",
    "    \n",
    "def mul_2():\n",
    "    compute=float(entry1.get())*float(entry2.get())\n",
    "    print(compute)\n",
    "    \n",
    "def div_2():\n",
    "    compute=float(entry1.get())/float(entry2.get())\n",
    "    print(compute)\n",
    "    \n",
    "root=Tk()\n",
    "\n",
    "frame1=Frame(root)\n",
    "frame1.pack()\n",
    "\n",
    "frame2=Frame(root)\n",
    "frame2.pack()\n",
    "\n",
    "Label(frame1,text=\"Number One\").pack(side=LEFT)\n",
    "entry1=Entry(frame1)\n",
    "entry1.pack()\n",
    "\n",
    "Label(frame2,text=\"Number Two\").pack(side=LEFT)\n",
    "entry2=Entry(frame2)\n",
    "entry2.pack()\n",
    "\n",
    "Button(root,text=\"Add\",command=add_2).pack(side=LEFT)\n",
    "\n",
    "Button(root,text=\"Subtract\",command=sub_2).pack(side=LEFT)\n",
    "\n",
    "Button(root,text=\"Multiply\",command=mul_2).pack(side=LEFT)\n",
    "\n",
    "Button(root,text=\"Divide\",command=div_2).pack(side=LEFT)\n",
    "root.mainloop()"
   ]
  },
  {
   "cell_type": "code",
   "execution_count": null,
   "id": "f9e31ea6",
   "metadata": {},
   "outputs": [],
   "source": []
  }
 ],
 "metadata": {
  "kernelspec": {
   "display_name": "Python 3 (ipykernel)",
   "language": "python",
   "name": "python3"
  },
  "language_info": {
   "codemirror_mode": {
    "name": "ipython",
    "version": 3
   },
   "file_extension": ".py",
   "mimetype": "text/x-python",
   "name": "python",
   "nbconvert_exporter": "python",
   "pygments_lexer": "ipython3",
   "version": "3.11.4"
  }
 },
 "nbformat": 4,
 "nbformat_minor": 5
}
